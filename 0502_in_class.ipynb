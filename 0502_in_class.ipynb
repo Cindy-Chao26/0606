{
  "nbformat": 4,
  "nbformat_minor": 0,
  "metadata": {
    "colab": {
      "provenance": [],
      "authorship_tag": "ABX9TyN2JOep8GeM/R2P2Xkw3tSd",
      "include_colab_link": true
    },
    "kernelspec": {
      "name": "python3",
      "display_name": "Python 3"
    },
    "language_info": {
      "name": "python"
    }
  },
  "cells": [
    {
      "cell_type": "markdown",
      "metadata": {
        "id": "view-in-github",
        "colab_type": "text"
      },
      "source": [
        "<a href=\"https://colab.research.google.com/github/Cindy-Chao26/0606/blob/main/0502_in_class.ipynb\" target=\"_parent\"><img src=\"https://colab.research.google.com/assets/colab-badge.svg\" alt=\"Open In Colab\"/></a>"
      ]
    },
    {
      "cell_type": "code",
      "source": [
        "sent= \"Today is a good day!\"\n",
        "\n",
        "new_sent_lower= sent. lower()\n",
        "new_sent_upper= sent. upper()\n",
        "\n",
        "print(new_sent_lower)\n",
        "print(new_sent_upper)\n",
        "print(len(sent))\n",
        "\n"
      ],
      "metadata": {
        "colab": {
          "base_uri": "https://localhost:8080/"
        },
        "id": "MKgy2axVEmC-",
        "outputId": "c434f64f-7e09-4a4e-b59a-a5ab6d663b37"
      },
      "execution_count": null,
      "outputs": [
        {
          "output_type": "stream",
          "name": "stdout",
          "text": [
            "today is a good day!\n",
            "TODAY IS A GOOD DAY!\n",
            "20\n"
          ]
        }
      ]
    },
    {
      "cell_type": "code",
      "source": [
        "string_1 = \"San Fancisco\"\n",
        "string_2 = \"Silicon Valley\"\n",
        "string_3 = \"Taipei\"\n",
        "string_4 = \"101\"\n",
        "\n",
        "print(f\"Let's's go to {string_1}. It's a beautiful city\")\n",
        "print(f\"Let's go to {string_3}{string_4}. It's a beautiful building\")"
      ],
      "metadata": {
        "colab": {
          "base_uri": "https://localhost:8080/"
        },
        "id": "tzrlByMRFMow",
        "outputId": "f88d47b4-2c5b-48ae-ec9b-de5436af41c1"
      },
      "execution_count": null,
      "outputs": [
        {
          "output_type": "stream",
          "name": "stdout",
          "text": [
            "Let's's go to San Fancisco. It's a beautiful city\n",
            "Let's go to Taipei101. It's a beautiful building\n"
          ]
        }
      ]
    },
    {
      "cell_type": "code",
      "source": [
        "def wordDetect(s):\n",
        "  if s == s.lower():\n",
        "    print(\"lower\")\n",
        "  elif s == s.upper():\n",
        "   print(\"upper\")\n",
        "  else:\n",
        "    print(\"mixed\")\n",
        "\n",
        "string_text = \"HELLO\"\n",
        "\n",
        "wordDetect(string_text)"
      ],
      "metadata": {
        "colab": {
          "base_uri": "https://localhost:8080/"
        },
        "id": "kicX9RYhPmZg",
        "outputId": "efa7d16a-cd92-4049-9655-e8825ad7ca00"
      },
      "execution_count": null,
      "outputs": [
        {
          "output_type": "stream",
          "name": "stdout",
          "text": [
            "upper\n"
          ]
        }
      ]
    },
    {
      "cell_type": "code",
      "source": [
        "def wordDetect(s):\n",
        "  if s == s.lower():\n",
        "    print(\"lower\")\n",
        "  elif s == s.upper():\n",
        "    print(\"upper\")\n",
        "  else:\n",
        "      print(\"mixed\")\n",
        "\n",
        "sent = \"Today is a good day\"\n",
        "\n",
        "wordDetect(sent)\n"
      ],
      "metadata": {
        "colab": {
          "base_uri": "https://localhost:8080/"
        },
        "id": "NGUpY_SaOgRV",
        "outputId": "217c34ba-29a6-491e-e96b-11e6216fd2f7"
      },
      "execution_count": null,
      "outputs": [
        {
          "output_type": "stream",
          "name": "stdout",
          "text": [
            "mixed\n"
          ]
        }
      ]
    },
    {
      "cell_type": "code",
      "source": [],
      "metadata": {
        "id": "cRS6naQ9PXKE"
      },
      "execution_count": null,
      "outputs": []
    }
  ]
}